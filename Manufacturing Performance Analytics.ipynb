{
 "cells": [
  {
   "cell_type": "code",
   "execution_count": 1,
   "id": "b4fe1f8e-1aa9-45bc-9dd6-066cbe1e9b33",
   "metadata": {},
   "outputs": [],
   "source": [
    "import pandas as pd"
   ]
  },
  {
   "cell_type": "code",
   "execution_count": 2,
   "id": "72f5764e-d306-4695-b2cf-d92545adefb7",
   "metadata": {},
   "outputs": [],
   "source": [
    "quality = pd.read_csv(\"manufacturing_data_JunAug2025.csv\")\n",
    "oee = pd.read_csv(\"production_oee_data_JunAug2025.csv\")\n",
    "inventory = pd.read_csv(\"inventory_data_JunAug2025.csv\")"
   ]
  },
  {
   "cell_type": "code",
   "execution_count": 3,
   "id": "c7426672-2edf-4994-9e12-9389a788b8df",
   "metadata": {},
   "outputs": [
    {
     "name": "stdout",
     "output_type": "stream",
     "text": [
      "         Date  Shift  Machine_No Product_ID  Operator  Qty_Produced  Defects  \\\n",
      "0  01-06-2025      1           1       53mm  A.Shaikh         54899      338   \n",
      "1  01-06-2025      1           2       74mm  L.Jadhav         67045      198   \n",
      "2  01-06-2025      1           3       53mm  L.Jadhav         72660      205   \n",
      "3  01-06-2025      1           4       82mm  B.Sawale        195349      512   \n",
      "4  01-06-2025      1           5       82mm  A.Shaikh        133819     1295   \n",
      "\n",
      "   Breakdown_Min  \n",
      "0              0  \n",
      "1             15  \n",
      "2              5  \n",
      "3             15  \n",
      "4             20  \n"
     ]
    }
   ],
   "source": [
    "print(quality.head())"
   ]
  },
  {
   "cell_type": "code",
   "execution_count": 4,
   "id": "cf575670-28ea-40f2-aa82-0707691655fb",
   "metadata": {},
   "outputs": [
    {
     "name": "stdout",
     "output_type": "stream",
     "text": [
      "         Date  Shift  Machine_No Product  Operator  Planned_Time_Min  \\\n",
      "0  01-06-2025      1           1    82mm  A.Shaikh               480   \n",
      "1  01-06-2025      1           2    53mm   P.Singh               480   \n",
      "2  01-06-2025      1           3    74mm   M.Kadam               480   \n",
      "3  01-06-2025      1           4    53mm  B.Sawale               480   \n",
      "4  01-06-2025      1           5    82mm  B.Sawale               480   \n",
      "\n",
      "   Run_Time_Min  Downtime_Min  Qty_Produced  Scrap  Standard_Rate  \n",
      "0           420            60         12750    193           1900  \n",
      "1           465            15         16544    412           2200  \n",
      "2           420            60         15504    768           2100  \n",
      "3           465            15         18532    879           2200  \n",
      "4           450            30         15561    662           1900  \n"
     ]
    }
   ],
   "source": [
    "print(oee.head())"
   ]
  },
  {
   "cell_type": "code",
   "execution_count": 5,
   "id": "1d3eb4ff-b8a9-4cec-b501-5b78a2912b0a",
   "metadata": {},
   "outputs": [
    {
     "name": "stdout",
     "output_type": "stream",
     "text": [
      "         Date Product Warehouse          Supplier  Opening_Stock  Inward  \\\n",
      "0  01-06-2025    35mm    Nashik         Beta Corp           1250       0   \n",
      "1  01-06-2025    38mm      Pune  Delta Industries            962       0   \n",
      "2  01-06-2025    53mm    Nashik     Gamma Traders           1008       0   \n",
      "3  01-06-2025    74mm      Pune     Gamma Traders           1976       0   \n",
      "4  01-06-2025    82mm      Pune  Delta Industries           1488       0   \n",
      "\n",
      "   Outward  Closing_Stock  Lead_Time_Days  \n",
      "0        0           1250               6  \n",
      "1      384            578               3  \n",
      "2        0           1008               4  \n",
      "3        0           1976               9  \n",
      "4        0           1488               8  \n"
     ]
    }
   ],
   "source": [
    "print(inventory.head())"
   ]
  },
  {
   "cell_type": "code",
   "execution_count": 6,
   "id": "0e4a8cde-2fe1-4f26-91ef-6f265fb65700",
   "metadata": {},
   "outputs": [],
   "source": [
    "quality.columns = quality.columns.str.lower().str.replace(\" \", \"_\")\n",
    "oee.columns = oee.columns.str.lower().str.replace(\" \", \"_\")\n",
    "inventory.columns = inventory.columns.str.lower().str.replace(\" \", \"_\")"
   ]
  },
  {
   "cell_type": "code",
   "execution_count": 7,
   "id": "4a188932-4f2d-48d3-8888-9b7e6091212b",
   "metadata": {},
   "outputs": [],
   "source": [
    "# Calculate defect percentage\n",
    "quality[\"defect_pct\"] = (quality[\"defects\"] / quality[\"qty_produced\"]) * 100"
   ]
  },
  {
   "cell_type": "code",
   "execution_count": 8,
   "id": "b99107f8-2f78-4191-b2fc-455b642f2550",
   "metadata": {},
   "outputs": [],
   "source": [
    "# Check average defects by machine\n",
    "quality_summary = quality.groupby(\"machine_no\")[\"defect_pct\"].mean().reset_index()"
   ]
  },
  {
   "cell_type": "code",
   "execution_count": 9,
   "id": "9a05d7ef-a277-4c32-bce2-049f9fd02d6a",
   "metadata": {},
   "outputs": [
    {
     "name": "stdout",
     "output_type": "stream",
     "text": [
      "Average defect % by machine:\n",
      "   machine_no  defect_pct\n",
      "0           1    0.560343\n",
      "1           2    0.579995\n",
      "2           3    0.561962\n",
      "3           4    0.535007\n",
      "4           5    0.548983\n",
      "5           6    0.553088\n"
     ]
    }
   ],
   "source": [
    "print(\"Average defect % by machine:\")\n",
    "print(quality_summary)"
   ]
  },
  {
   "cell_type": "code",
   "execution_count": 10,
   "id": "3a70be18-72f7-41ad-a547-6638ef7fda2d",
   "metadata": {},
   "outputs": [],
   "source": [
    "quality.to_csv(\"clean_quality_defects.csv\", index=False)"
   ]
  },
  {
   "cell_type": "code",
   "execution_count": 11,
   "id": "1f80d2ee-5d06-4a17-8106-726c85095fc7",
   "metadata": {},
   "outputs": [],
   "source": [
    "# Availability = Run Time / Planned Time\n",
    "oee[\"availability\"] = oee[\"run_time_min\"] / oee[\"planned_time_min\"]"
   ]
  },
  {
   "cell_type": "code",
   "execution_count": 12,
   "id": "eaa94190-8d94-44c0-a259-520adf44a29a",
   "metadata": {},
   "outputs": [],
   "source": [
    "# Performance = (Standard Rate * Qty Produced) / Run Time\n",
    "oee[\"performance\"] = (oee[\"standard_rate\"] * oee[\"qty_produced\"]) / oee[\"run_time_min\"]"
   ]
  },
  {
   "cell_type": "code",
   "execution_count": 13,
   "id": "79ac2cbb-86d2-4559-8c14-736a50ef4366",
   "metadata": {},
   "outputs": [],
   "source": [
    "# Quality = (Qty Produced - Scrap) / Qty Produced\n",
    "oee[\"quality\"] = (oee[\"qty_produced\"] - oee[\"scrap\"]) / oee[\"qty_produced\"]"
   ]
  },
  {
   "cell_type": "code",
   "execution_count": 14,
   "id": "120fc7b9-fd04-461c-9330-9229f4457091",
   "metadata": {},
   "outputs": [],
   "source": [
    "# OEE = Availability * Performance * Quality\n",
    "oee[\"oee\"] = oee[\"availability\"] * oee[\"performance\"] * oee[\"quality\"]"
   ]
  },
  {
   "cell_type": "code",
   "execution_count": 15,
   "id": "ad1ff9c4-fa30-4963-8f80-5ff751f48dcb",
   "metadata": {},
   "outputs": [],
   "source": [
    "# Average OEE by machine\n",
    "oee_summary = oee.groupby(\"machine_no\")[\"oee\"].mean().reset_index()"
   ]
  },
  {
   "cell_type": "code",
   "execution_count": 16,
   "id": "7a0c2138-6a00-421d-81a0-3f92ad7e5f50",
   "metadata": {},
   "outputs": [
    {
     "name": "stdout",
     "output_type": "stream",
     "text": [
      "Average OEE by machine:\n",
      "   machine_no           oee\n",
      "0           1  60722.650589\n",
      "1           2  58859.860734\n",
      "2           3  58717.076540\n",
      "3           4  58670.764266\n",
      "4           5  59311.081295\n",
      "5           6  59968.879076\n"
     ]
    }
   ],
   "source": [
    "print(\"Average OEE by machine:\")\n",
    "print(oee_summary)"
   ]
  },
  {
   "cell_type": "code",
   "execution_count": 17,
   "id": "67c1b885-8978-4b0e-b5ca-442e6d6a9c79",
   "metadata": {},
   "outputs": [],
   "source": [
    "oee.to_csv(\"clean_oee.csv\", index=False)"
   ]
  },
  {
   "cell_type": "code",
   "execution_count": 18,
   "id": "f5a1a25a-b7e5-4de0-98cb-578c814245c9",
   "metadata": {},
   "outputs": [],
   "source": [
    "# Calculate total stock value\n",
    "inventory[\"total_value\"] = inventory[\"closing_stock\"] * 100"
   ]
  },
  {
   "cell_type": "code",
   "execution_count": 19,
   "id": "33fe8a26-cc1e-4112-9c79-2db6e7fa345c",
   "metadata": {},
   "outputs": [],
   "source": [
    "# Sort by highest stock value\n",
    "inventory_sorted = inventory.sort_values(\"total_value\", ascending=False)"
   ]
  },
  {
   "cell_type": "code",
   "execution_count": 20,
   "id": "bf495e7f-d59a-4bef-8637-4a5e693bf59c",
   "metadata": {},
   "outputs": [
    {
     "name": "stdout",
     "output_type": "stream",
     "text": [
      "Top inventory items by value:\n",
      "           date product warehouse          supplier  opening_stock  inward  \\\n",
      "215  14-07-2025    35mm    Mumbai         Alpha Ltd           1979     394   \n",
      "231  17-07-2025    38mm    Mumbai     Gamma Traders           1969     373   \n",
      "299  30-07-2025    82mm      Pune         Beta Corp           1930     389   \n",
      "59   12-06-2025    82mm    Mumbai         Alpha Ltd           1914     394   \n",
      "282  27-07-2025    53mm    Mumbai         Alpha Ltd           1947     492   \n",
      "171  05-07-2025    38mm    Nashik         Alpha Ltd           1942     265   \n",
      "271  25-07-2025    38mm    Mumbai  Delta Industries           1973     191   \n",
      "99   20-06-2025    82mm    Nashik     Gamma Traders           1937     215   \n",
      "8    02-06-2025    74mm      Pune         Alpha Ltd           1931     215   \n",
      "47   10-06-2025    53mm    Mumbai  Delta Industries           1893     242   \n",
      "\n",
      "     outward  closing_stock  lead_time_days  total_value  \n",
      "215        0           2373               8       237300  \n",
      "231        0           2342               3       234200  \n",
      "299        0           2319               8       231900  \n",
      "59         0           2308               9       230800  \n",
      "282      224           2215               3       221500  \n",
      "171        0           2207               4       220700  \n",
      "271        0           2164               5       216400  \n",
      "99         0           2152               4       215200  \n",
      "8          0           2146               9       214600  \n",
      "47         0           2135               8       213500  \n"
     ]
    }
   ],
   "source": [
    "print(\"Top inventory items by value:\")\n",
    "print(inventory_sorted.head(10))"
   ]
  },
  {
   "cell_type": "code",
   "execution_count": 21,
   "id": "1f8c7c47-52c0-4efa-a79e-dc441a941545",
   "metadata": {},
   "outputs": [],
   "source": [
    "inventory.to_csv(\"clean_inventory.csv\", index=False)"
   ]
  },
  {
   "cell_type": "code",
   "execution_count": 22,
   "id": "ef5234f9-3204-40ef-83b8-9a0ea6f26ca4",
   "metadata": {},
   "outputs": [],
   "source": [
    "summary = pd.merge(\n",
    "    quality_summary, oee_summary,\n",
    "    left_on=\"machine_no\", right_on=\"machine_no\", how=\"inner\"\n",
    ")"
   ]
  },
  {
   "cell_type": "code",
   "execution_count": 23,
   "id": "0fd6bc37-e085-4277-830b-8be3c9f1bf15",
   "metadata": {},
   "outputs": [],
   "source": [
    "summary.rename(columns={\"defect_pct\": \"avg_defect_pct\", \"oee\": \"avg_oee\"}, inplace=True)"
   ]
  },
  {
   "cell_type": "code",
   "execution_count": 24,
   "id": "987207f3-c0e9-44c7-81cc-1df0315b20c6",
   "metadata": {},
   "outputs": [
    {
     "name": "stdout",
     "output_type": "stream",
     "text": [
      "Combined Machine Summary:\n",
      "   machine_no  avg_defect_pct       avg_oee\n",
      "0           1        0.560343  60722.650589\n",
      "1           2        0.579995  58859.860734\n",
      "2           3        0.561962  58717.076540\n",
      "3           4        0.535007  58670.764266\n",
      "4           5        0.548983  59311.081295\n",
      "5           6        0.553088  59968.879076\n"
     ]
    }
   ],
   "source": [
    "print(\"Combined Machine Summary:\")\n",
    "print(summary)"
   ]
  },
  {
   "cell_type": "code",
   "execution_count": 25,
   "id": "0f8920c8-6604-4b6e-b31c-b036fa0c9334",
   "metadata": {},
   "outputs": [],
   "source": [
    "summary.to_csv(\"machine_summary.csv\", index=False)"
   ]
  },
  {
   "cell_type": "code",
   "execution_count": null,
   "id": "41b45661-7477-4d13-8d6d-3d2fe8cf117c",
   "metadata": {},
   "outputs": [],
   "source": []
  }
 ],
 "metadata": {
  "kernelspec": {
   "display_name": "Python 3 (ipykernel)",
   "language": "python",
   "name": "python3"
  },
  "language_info": {
   "codemirror_mode": {
    "name": "ipython",
    "version": 3
   },
   "file_extension": ".py",
   "mimetype": "text/x-python",
   "name": "python",
   "nbconvert_exporter": "python",
   "pygments_lexer": "ipython3",
   "version": "3.12.12"
  }
 },
 "nbformat": 4,
 "nbformat_minor": 5
}
